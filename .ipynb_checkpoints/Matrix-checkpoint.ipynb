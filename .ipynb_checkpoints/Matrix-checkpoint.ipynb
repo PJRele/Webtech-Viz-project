{
 "cells": [
  {
   "cell_type": "code",
   "execution_count": 23,
   "metadata": {
    "scrolled": false
   },
   "outputs": [
    {
     "ename": "NameError",
     "evalue": "name 'opts' is not defined",
     "output_type": "error",
     "traceback": [
      "\u001b[1;31m---------------------------------------------------------------------------\u001b[0m",
      "\u001b[1;31mNameError\u001b[0m                                 Traceback (most recent call last)",
      "\u001b[1;32m<ipython-input-23-3011acf03627>\u001b[0m in \u001b[0;36m<module>\u001b[1;34m()\u001b[0m\n\u001b[0;32m     63\u001b[0m \u001b[1;33m\u001b[0m\u001b[0m\n\u001b[0;32m     64\u001b[0m \u001b[0mp\u001b[0m\u001b[1;33m.\u001b[0m\u001b[0mimage\u001b[0m\u001b[1;33m(\u001b[0m\u001b[0mimage\u001b[0m\u001b[1;33m=\u001b[0m\u001b[1;33m[\u001b[0m\u001b[0marrayM\u001b[0m\u001b[1;33m]\u001b[0m\u001b[1;33m,\u001b[0m \u001b[0mx\u001b[0m\u001b[1;33m=\u001b[0m\u001b[1;36m0\u001b[0m\u001b[1;33m,\u001b[0m \u001b[0my\u001b[0m\u001b[1;33m=\u001b[0m\u001b[1;36m0\u001b[0m\u001b[1;33m,\u001b[0m \u001b[0mdw\u001b[0m\u001b[1;33m=\u001b[0m\u001b[1;36m2\u001b[0m\u001b[1;33m,\u001b[0m \u001b[0mdh\u001b[0m\u001b[1;33m=\u001b[0m\u001b[1;36m2\u001b[0m\u001b[1;33m,\u001b[0m\u001b[0mpalette\u001b[0m\u001b[1;33m=\u001b[0m\u001b[1;34m\"Spectral11\"\u001b[0m \u001b[1;33m)\u001b[0m\u001b[1;33m\u001b[0m\u001b[0m\n\u001b[1;32m---> 65\u001b[1;33m \u001b[0mopts\u001b[0m\u001b[1;33m.\u001b[0m\u001b[0mimage\u001b[0m\u001b[1;33m(\u001b[0m\u001b[0mtools\u001b[0m\u001b[1;33m=\u001b[0m\u001b[1;33m[\u001b[0m\u001b[1;34m'hover'\u001b[0m\u001b[1;33m]\u001b[0m\u001b[1;33m)\u001b[0m\u001b[1;33m\u001b[0m\u001b[0m\n\u001b[0m\u001b[0;32m     66\u001b[0m \u001b[0moutput_file\u001b[0m\u001b[1;33m(\u001b[0m\u001b[1;34m\"matrix.html\"\u001b[0m\u001b[1;33m)\u001b[0m\u001b[1;33m\u001b[0m\u001b[0m\n\u001b[0;32m     67\u001b[0m \u001b[0mshow\u001b[0m\u001b[1;33m(\u001b[0m\u001b[0mp\u001b[0m\u001b[1;33m)\u001b[0m\u001b[1;33m\u001b[0m\u001b[0m\n",
      "\u001b[1;31mNameError\u001b[0m: name 'opts' is not defined"
     ]
    }
   ],
   "source": [
    "import numpy as np\n",
    "import pandas as pd\n",
    "import matplotlib.pyplot as plt\n",
    "import sqlite3\n",
    "\n",
    "from bokeh.plotting import figure, show\n",
    "#import seaborn as sns; sns.set()\n",
    "from bokeh.resources import CDN\n",
    "from bokeh.charts import output_file\n",
    "\n",
    "\n",
    "\n",
    "\n",
    "\n",
    "author_data = pd.read_csv('databases/GephiMatrix_author_similarity.csv', na_values=[''], keep_default_na=False)\n",
    "\n",
    "author_list = author_data.iloc[:,0]\n",
    "\n",
    "m = [None] * (author_list.size)\n",
    "\n",
    "i = 0\n",
    "while i < author_list.size:\n",
    "    m[i] = author_list[i].split(\";\")\n",
    "    i += 1\n",
    "#print(m[0][1 :])\n",
    "#n = [None] * (author_list.size - 1)\n",
    "\n",
    "    \n",
    "i = 0\n",
    "while i < (author_list.size):\n",
    "    n = m[i][1 :-1]\n",
    "    m[i] = n\n",
    "    i += 1\n",
    "    \n",
    "i = 0\n",
    "while i< author_list.size:\n",
    "    j= 0\n",
    "    while j< author_list.size:\n",
    "        m[i][j] = float(m[i][j])\n",
    "        j += 1\n",
    "    i += 1\n",
    "    \n",
    "\n",
    "arrayM = np.array(m)\n",
    "p = figure(x_range = (0, 2), y_range = (0, 2))\n",
    "\n",
    "p.image(image=[arrayM], x=0, y=0, dw=2, dh=2,palette=\"Spectral11\" )\n",
    "#show(p)\n",
    "\n",
    "\n",
    "dfM = pd.DataFrame(m)\n",
    "\n",
    "dfM['sum'] = dfM[list(dfM.columns)].sum(axis=1)\n",
    "\n",
    "dfM = dfM.sort_values(by='sum', ascending=0)\n",
    "del dfM['sum']\n",
    "\n",
    "dfM = dfM.reindex(columns = dfM.index)\n",
    "mReorder = dfM.as_matrix(columns=None)\n",
    "\n",
    "arrayMReorder = np.array(mReorder)\n",
    "arrayMReorder\n",
    "\n",
    "p.image(image=[arrayM], x=0, y=0, dw=2, dh=2,palette=\"Spectral11\" )\n",
    "\n",
    "output_file(\"matrix.html\")\n",
    "show(p)"
   ]
  },
  {
   "cell_type": "code",
   "execution_count": 9,
   "metadata": {},
   "outputs": [],
   "source": [
    "#from bokeh.models import HoverTool\n",
    "#hover = HoverTool(\n",
    " #      tooltips=[\n",
    "  #          (\"author_list\", \"$author_list\"),\n",
    "   #        (\"(x_range,y_range)\", \"(x_range=$x{0[.]00000}, y_range=$y{0[.]00000})\"),\n",
    "    #    ]\n",
    "    #)\n",
    "\n"
   ]
  },
  {
   "cell_type": "code",
   "execution_count": null,
   "metadata": {},
   "outputs": [],
   "source": []
  }
 ],
 "metadata": {
  "kernelspec": {
   "display_name": "Python 3",
   "language": "python",
   "name": "python3"
  },
  "language_info": {
   "codemirror_mode": {
    "name": "ipython",
    "version": 3
   },
   "file_extension": ".py",
   "mimetype": "text/x-python",
   "name": "python",
   "nbconvert_exporter": "python",
   "pygments_lexer": "ipython3",
   "version": "3.6.1"
  }
 },
 "nbformat": 4,
 "nbformat_minor": 2
}
