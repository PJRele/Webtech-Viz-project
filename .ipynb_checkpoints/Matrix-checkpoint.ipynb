{
 "cells": [
  {
   "cell_type": "code",
   "execution_count": 1,
   "metadata": {
    "scrolled": false
   },
   "outputs": [
    {
     "ename": "ModuleNotFoundError",
     "evalue": "No module named 'bokeh.charts'",
     "output_type": "error",
     "traceback": [
      "\u001b[1;31m---------------------------------------------------------------------------\u001b[0m",
      "\u001b[1;31mModuleNotFoundError\u001b[0m                       Traceback (most recent call last)",
      "\u001b[1;32m<ipython-input-1-00271af75686>\u001b[0m in \u001b[0;36m<module>\u001b[1;34m()\u001b[0m\n\u001b[0;32m      6\u001b[0m \u001b[1;31m#import seaborn as sns; sns.set()\u001b[0m\u001b[1;33m\u001b[0m\u001b[1;33m\u001b[0m\u001b[1;33m\u001b[0m\u001b[0m\n\u001b[0;32m      7\u001b[0m \u001b[1;32mfrom\u001b[0m \u001b[0mbokeh\u001b[0m\u001b[1;33m.\u001b[0m\u001b[0mresources\u001b[0m \u001b[1;32mimport\u001b[0m \u001b[0mCDN\u001b[0m\u001b[1;33m\u001b[0m\u001b[1;33m\u001b[0m\u001b[0m\n\u001b[1;32m----> 8\u001b[1;33m \u001b[1;32mfrom\u001b[0m \u001b[0mbokeh\u001b[0m\u001b[1;33m.\u001b[0m\u001b[0mcharts\u001b[0m \u001b[1;32mimport\u001b[0m \u001b[0moutput_file\u001b[0m\u001b[1;33m\u001b[0m\u001b[1;33m\u001b[0m\u001b[0m\n\u001b[0m\u001b[0;32m      9\u001b[0m \u001b[1;32mimport\u001b[0m \u001b[0mholoviews\u001b[0m \u001b[1;32mas\u001b[0m \u001b[0mhv\u001b[0m\u001b[1;33m\u001b[0m\u001b[1;33m\u001b[0m\u001b[0m\n\u001b[0;32m     10\u001b[0m \u001b[1;32mfrom\u001b[0m \u001b[0mholoviews\u001b[0m \u001b[1;32mimport\u001b[0m \u001b[0mopts\u001b[0m\u001b[1;33m\u001b[0m\u001b[1;33m\u001b[0m\u001b[0m\n",
      "\u001b[1;31mModuleNotFoundError\u001b[0m: No module named 'bokeh.charts'"
     ]
    }
   ],
   "source": [
    "import numpy as np\n",
    "import pandas as pd\n",
    "import matplotlib.pyplot as plt\n",
    "import sqlite3\n",
    "from bokeh.plotting import figure, show\n",
    "#import seaborn as sns; sns.set()\n",
    "from bokeh.resources import CDN\n",
    "from bokeh.charts import output_file\n",
    "import holoviews as hv\n",
    "from holoviews import opts\n",
    "\n",
    "hv.extension('bokeh', 'matplotlib')\n",
    "author_data = pd.read_csv('databases/GephiMatrix_author_similarity.csv', na_values=[''], keep_default_na=False)\n",
    "\n",
    "author_list = author_data.iloc[:,0]\n",
    "\n",
    "m = [None] * (author_list.size)\n",
    "\n",
    "i = 0\n",
    "while i < author_list.size:\n",
    "    m[i] = author_list[i].split(\";\")\n",
    "    i += 1\n",
    "#print(m[0][1 :])\n",
    "#n = [None] * (author_list.size - 1)\n",
    "\n",
    "    \n",
    "i = 0\n",
    "while i < (author_list.size):\n",
    "    n = m[i][1 :-1]\n",
    "    m[i] = n\n",
    "    i += 1\n",
    "    \n",
    "i = 0\n",
    "while i< author_list.size:\n",
    "    j= 0\n",
    "    while j< author_list.size:\n",
    "        m[i][j] = float(m[i][j])\n",
    "        j += 1\n",
    "    i += 1\n",
    "    \n",
    "\n",
    "arrayM = np.array(m)\n",
    "p = figure(x_range = (0, 2), y_range = (0, 2))\n",
    "\n",
    "p.image(image=[arrayM], x=0, y=0, dw=2, dh=2,palette=\"Spectral11\" )\n",
    "#show(p)\n",
    "\n",
    "\n",
    "dfM = pd.DataFrame(m)\n",
    "\n",
    "dfM['sum'] = dfM[list(dfM.columns)].sum(axis=1)\n",
    "\n",
    "dfM = dfM.sort_values(by='sum', ascending=0)\n",
    "del dfM['sum']\n",
    "\n",
    "dfM = dfM.reindex(columns = dfM.index)\n",
    "mReorder = dfM.as_matrix(columns=None)\n",
    "\n",
    "arrayMReorder = np.array(mReorder)\n",
    "arrayMReorder\n",
    "\n",
    "p.image(image=[arrayM], x=0, y=0, dw=2, dh=2,palette=\"Spectral11\" )\n",
    "\n",
    "output_file(\"matrix.html\",  mode='inline')\n",
    "show(p)\n"
   ]
  },
  {
   "cell_type": "code",
   "execution_count": 2,
   "metadata": {},
   "outputs": [
    {
     "ename": "AttributeError",
     "evalue": "module 'pandas' has no attribute '_version_'",
     "output_type": "error",
     "traceback": [
      "\u001b[1;31m---------------------------------------------------------------------------\u001b[0m",
      "\u001b[1;31mAttributeError\u001b[0m                            Traceback (most recent call last)",
      "\u001b[1;32m<ipython-input-2-78d5997633db>\u001b[0m in \u001b[0;36m<module>\u001b[1;34m()\u001b[0m\n\u001b[1;32m----> 1\u001b[1;33m \u001b[0mprint\u001b[0m\u001b[1;33m(\u001b[0m\u001b[0mpd\u001b[0m\u001b[1;33m.\u001b[0m\u001b[0m_version_\u001b[0m\u001b[1;33m)\u001b[0m\u001b[1;33m\u001b[0m\u001b[1;33m\u001b[0m\u001b[0m\n\u001b[0m\u001b[0;32m      2\u001b[0m \u001b[1;33m\u001b[0m\u001b[0m\n",
      "\u001b[1;31mAttributeError\u001b[0m: module 'pandas' has no attribute '_version_'"
     ]
    }
   ],
   "source": [
    "print(pd._version_)"
   ]
  },
  {
   "cell_type": "code",
   "execution_count": null,
   "metadata": {
    "collapsed": true
   },
   "outputs": [],
   "source": []
  }
 ],
 "metadata": {
  "kernelspec": {
   "display_name": "Python 3",
   "language": "python",
   "name": "python3"
  },
  "language_info": {
   "codemirror_mode": {
    "name": "ipython",
    "version": 3
   },
   "file_extension": ".py",
   "mimetype": "text/x-python",
   "name": "python",
   "nbconvert_exporter": "python",
   "pygments_lexer": "ipython3",
   "version": "3.6.8"
  }
 },
 "nbformat": 4,
 "nbformat_minor": 2
}
